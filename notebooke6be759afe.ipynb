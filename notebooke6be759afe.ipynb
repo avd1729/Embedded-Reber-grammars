{
 "cells": [
  {
   "cell_type": "code",
   "execution_count": 1,
   "id": "dff963b4",
   "metadata": {
    "execution": {
     "iopub.execute_input": "2023-10-16T15:10:49.586254Z",
     "iopub.status.busy": "2023-10-16T15:10:49.584897Z",
     "iopub.status.idle": "2023-10-16T15:10:49.596660Z",
     "shell.execute_reply": "2023-10-16T15:10:49.595244Z"
    },
    "papermill": {
     "duration": 0.021288,
     "end_time": "2023-10-16T15:10:49.599734",
     "exception": false,
     "start_time": "2023-10-16T15:10:49.578446",
     "status": "completed"
    },
    "tags": []
   },
   "outputs": [],
   "source": [
    "import warnings\n",
    "warnings.filterwarnings('ignore')"
   ]
  },
  {
   "cell_type": "code",
   "execution_count": 2,
   "id": "592b1f45",
   "metadata": {
    "execution": {
     "iopub.execute_input": "2023-10-16T15:10:49.613705Z",
     "iopub.status.busy": "2023-10-16T15:10:49.612833Z",
     "iopub.status.idle": "2023-10-16T15:11:02.891888Z",
     "shell.execute_reply": "2023-10-16T15:11:02.890730Z"
    },
    "papermill": {
     "duration": 13.28784,
     "end_time": "2023-10-16T15:11:02.894917",
     "exception": false,
     "start_time": "2023-10-16T15:10:49.607077",
     "status": "completed"
    },
    "tags": []
   },
   "outputs": [],
   "source": [
    "import numpy as np\n",
    "import pandas as pd\n",
    "import tensorflow as tf"
   ]
  },
  {
   "cell_type": "code",
   "execution_count": 3,
   "id": "ea7b32dc",
   "metadata": {
    "execution": {
     "iopub.execute_input": "2023-10-16T15:11:02.908250Z",
     "iopub.status.busy": "2023-10-16T15:11:02.906304Z",
     "iopub.status.idle": "2023-10-16T15:11:02.918335Z",
     "shell.execute_reply": "2023-10-16T15:11:02.916526Z"
    },
    "papermill": {
     "duration": 0.021994,
     "end_time": "2023-10-16T15:11:02.921287",
     "exception": false,
     "start_time": "2023-10-16T15:11:02.899293",
     "status": "completed"
    },
    "tags": []
   },
   "outputs": [],
   "source": [
    "default_reber_grammar = [\n",
    "    [(\"B\", 1)],           # (state 0) =B=>(state 1)\n",
    "    [(\"T\", 2), (\"P\", 3)], # (state 1) =T=>(state 2) or =P=>(state 3)\n",
    "    [(\"S\", 2), (\"X\", 4)], # (state 2) =S=>(state 2) or =X=>(state 4)\n",
    "    [(\"T\", 3), (\"V\", 5)], # and so on...\n",
    "    [(\"X\", 3), (\"S\", 6)],\n",
    "    [(\"P\", 4), (\"V\", 6)],\n",
    "    [(\"E\", None)]]        # (state 6) =E=>(terminal state)\n",
    "\n",
    "embedded_reber_grammar = [\n",
    "    [(\"B\", 1)],\n",
    "    [(\"T\", 2), (\"P\", 3)],\n",
    "    [(default_reber_grammar, 4)],\n",
    "    [(default_reber_grammar, 5)],\n",
    "    [(\"T\", 6)],\n",
    "    [(\"P\", 6)],\n",
    "    [(\"E\", None)]]\n",
    "\n",
    "def generate_string(grammar):\n",
    "    state = 0\n",
    "    output = []\n",
    "    while state is not None:\n",
    "        index = np.random.randint(len(grammar[state]))\n",
    "        production, state = grammar[state][index]\n",
    "        if isinstance(production, list):\n",
    "            production = generate_string(grammar=production)\n",
    "        output.append(production)\n",
    "    return \"\".join(output)"
   ]
  },
  {
   "cell_type": "code",
   "execution_count": 4,
   "id": "f557493a",
   "metadata": {
    "execution": {
     "iopub.execute_input": "2023-10-16T15:11:02.931551Z",
     "iopub.status.busy": "2023-10-16T15:11:02.930710Z",
     "iopub.status.idle": "2023-10-16T15:11:02.939870Z",
     "shell.execute_reply": "2023-10-16T15:11:02.938748Z"
    },
    "papermill": {
     "duration": 0.01739,
     "end_time": "2023-10-16T15:11:02.942662",
     "exception": false,
     "start_time": "2023-10-16T15:11:02.925272",
     "status": "completed"
    },
    "tags": []
   },
   "outputs": [
    {
     "name": "stdout",
     "output_type": "stream",
     "text": [
      "BTXXTTVPXTVPXTTVPSE BPVPSE BTXSE BPVVE BPVVE BTSXSE BPTVPXTTTVVE BPVVE BTXSE BTXXVPSE BPTTTTTTTTVVE BTXSE BPVPSE BTXSE BPTVPSE BTXXTVPSE BPVVE BPVVE BPVVE BPTTVVE BPVVE BPVVE BTXXVVE BTXXVVE BTXXVPXVVE "
     ]
    }
   ],
   "source": [
    "np.random.seed(42)\n",
    "\n",
    "for _ in range(25):\n",
    "    print(generate_string(default_reber_grammar), end=\" \")"
   ]
  },
  {
   "cell_type": "code",
   "execution_count": 5,
   "id": "c44cbf1b",
   "metadata": {
    "execution": {
     "iopub.execute_input": "2023-10-16T15:11:02.953179Z",
     "iopub.status.busy": "2023-10-16T15:11:02.952585Z",
     "iopub.status.idle": "2023-10-16T15:11:02.961703Z",
     "shell.execute_reply": "2023-10-16T15:11:02.960156Z"
    },
    "papermill": {
     "duration": 0.018099,
     "end_time": "2023-10-16T15:11:02.964346",
     "exception": false,
     "start_time": "2023-10-16T15:11:02.946247",
     "status": "completed"
    },
    "tags": []
   },
   "outputs": [
    {
     "name": "stdout",
     "output_type": "stream",
     "text": [
      "BTBPTTTVPXTVPXTTVPSETE BPBPTVPSEPE BPBPVVEPE BPBPVPXVVEPE BPBTXXTTTTVVEPE BPBPVPSEPE BPBTXXVPSEPE BPBTSSSSSSSXSEPE BTBPVVETE BPBTXXVVEPE BPBTXXVPSEPE BTBTXXVVETE BPBPVVEPE BPBPVVEPE BPBTSXSEPE BPBPVVEPE BPBPTVPSEPE BPBTXXVVEPE BTBPTVPXVVETE BTBPVVETE BTBTSSSSSSSXXVVETE BPBTSSSXXTTTTVPSEPE BTBPTTVVETE BPBTXXTVVEPE BTBTXSETE "
     ]
    }
   ],
   "source": [
    "np.random.seed(42)\n",
    "\n",
    "for _ in range(25):\n",
    "    print(generate_string(embedded_reber_grammar), end=\" \")"
   ]
  },
  {
   "cell_type": "code",
   "execution_count": 6,
   "id": "14162fad",
   "metadata": {
    "execution": {
     "iopub.execute_input": "2023-10-16T15:11:02.975280Z",
     "iopub.status.busy": "2023-10-16T15:11:02.974843Z",
     "iopub.status.idle": "2023-10-16T15:11:02.982396Z",
     "shell.execute_reply": "2023-10-16T15:11:02.980492Z"
    },
    "papermill": {
     "duration": 0.016762,
     "end_time": "2023-10-16T15:11:02.985121",
     "exception": false,
     "start_time": "2023-10-16T15:11:02.968359",
     "status": "completed"
    },
    "tags": []
   },
   "outputs": [],
   "source": [
    "POSSIBLE_CHARS = \"BEPSTVX\"\n",
    "\n",
    "def generate_corrupted_string(grammar, chars=POSSIBLE_CHARS):\n",
    "    good_string = generate_string(grammar)\n",
    "    index = np.random.randint(len(good_string))\n",
    "    good_char = good_string[index]\n",
    "    bad_char = np.random.choice(sorted(set(chars) - set(good_char)))\n",
    "    return good_string[:index] + bad_char + good_string[index + 1:]"
   ]
  },
  {
   "cell_type": "code",
   "execution_count": 7,
   "id": "f657ac09",
   "metadata": {
    "execution": {
     "iopub.execute_input": "2023-10-16T15:11:02.996863Z",
     "iopub.status.busy": "2023-10-16T15:11:02.996390Z",
     "iopub.status.idle": "2023-10-16T15:11:03.013844Z",
     "shell.execute_reply": "2023-10-16T15:11:03.010891Z"
    },
    "papermill": {
     "duration": 0.027602,
     "end_time": "2023-10-16T15:11:03.017471",
     "exception": false,
     "start_time": "2023-10-16T15:11:02.989869",
     "status": "completed"
    },
    "tags": []
   },
   "outputs": [
    {
     "name": "stdout",
     "output_type": "stream",
     "text": [
      "BTBPTTTPPXTVPXTTVPSETE BPBTXEEPE BPBPTVVVEPE BPBTSSSSXSETE BPTTXSEPE BTBPVPXTTTTTTEVETE BPBTXXSVEPE BSBPTTVPSETE BPBXVVEPE BEBTXSETE BPBPVPSXPE BTBPVVVETE BPBTSXSETE BPBPTTTPTTTTTVPSEPE BTBTXXTTSTVPSETE BBBTXSETE BPBTPXSEPE BPBPVPXTTTTVPXTVPXVPXTTTVVEVE BTBXXXTVPSETE BEBTSSSSSXXVPXTVVETE BTBXTTVVETE BPBTXSTPE BTBTXXTTTVPSBTE BTBTXSETX BTBTSXSSTE "
     ]
    }
   ],
   "source": [
    "np.random.seed(42)\n",
    "\n",
    "for _ in range(25):\n",
    "    print(generate_corrupted_string(embedded_reber_grammar), end=\" \")"
   ]
  },
  {
   "cell_type": "code",
   "execution_count": 8,
   "id": "8934b535",
   "metadata": {
    "execution": {
     "iopub.execute_input": "2023-10-16T15:11:03.028339Z",
     "iopub.status.busy": "2023-10-16T15:11:03.027852Z",
     "iopub.status.idle": "2023-10-16T15:11:03.035474Z",
     "shell.execute_reply": "2023-10-16T15:11:03.033920Z"
    },
    "papermill": {
     "duration": 0.016504,
     "end_time": "2023-10-16T15:11:03.038348",
     "exception": false,
     "start_time": "2023-10-16T15:11:03.021844",
     "status": "completed"
    },
    "tags": []
   },
   "outputs": [],
   "source": [
    "def string_to_ids(s, chars=POSSIBLE_CHARS):\n",
    "    return [chars.index(c) for c in s]"
   ]
  },
  {
   "cell_type": "code",
   "execution_count": 9,
   "id": "f3d47c92",
   "metadata": {
    "execution": {
     "iopub.execute_input": "2023-10-16T15:11:03.047922Z",
     "iopub.status.busy": "2023-10-16T15:11:03.047226Z",
     "iopub.status.idle": "2023-10-16T15:11:03.057348Z",
     "shell.execute_reply": "2023-10-16T15:11:03.055607Z"
    },
    "papermill": {
     "duration": 0.018465,
     "end_time": "2023-10-16T15:11:03.060654",
     "exception": false,
     "start_time": "2023-10-16T15:11:03.042189",
     "status": "completed"
    },
    "tags": []
   },
   "outputs": [
    {
     "data": {
      "text/plain": [
       "[0, 2, 0, 2, 4, 5, 2, 3, 1, 2, 1]"
      ]
     },
     "execution_count": 9,
     "metadata": {},
     "output_type": "execute_result"
    }
   ],
   "source": [
    "string_to_ids(\"BPBPTVPSEPE\")"
   ]
  },
  {
   "cell_type": "code",
   "execution_count": 10,
   "id": "16307373",
   "metadata": {
    "execution": {
     "iopub.execute_input": "2023-10-16T15:11:03.071310Z",
     "iopub.status.busy": "2023-10-16T15:11:03.070708Z",
     "iopub.status.idle": "2023-10-16T15:11:03.079624Z",
     "shell.execute_reply": "2023-10-16T15:11:03.078066Z"
    },
    "papermill": {
     "duration": 0.017883,
     "end_time": "2023-10-16T15:11:03.082492",
     "exception": false,
     "start_time": "2023-10-16T15:11:03.064609",
     "status": "completed"
    },
    "tags": []
   },
   "outputs": [],
   "source": [
    "def generate_dataset(size):\n",
    "    good_strings = [\n",
    "        string_to_ids(generate_string(embedded_reber_grammar))\n",
    "        for _ in range(size // 2)\n",
    "    ]\n",
    "    bad_strings = [\n",
    "        string_to_ids(generate_corrupted_string(embedded_reber_grammar))\n",
    "        for _ in range(size - size // 2)\n",
    "    ]\n",
    "    all_strings = good_strings + bad_strings\n",
    "    X = tf.ragged.constant(all_strings, ragged_rank=1)\n",
    "    y = np.array([[1.] for _ in range(len(good_strings))] +\n",
    "                 [[0.] for _ in range(len(bad_strings))])\n",
    "    return X, y"
   ]
  },
  {
   "cell_type": "code",
   "execution_count": 11,
   "id": "c852fa50",
   "metadata": {
    "execution": {
     "iopub.execute_input": "2023-10-16T15:11:03.092250Z",
     "iopub.status.busy": "2023-10-16T15:11:03.091894Z",
     "iopub.status.idle": "2023-10-16T15:11:06.250613Z",
     "shell.execute_reply": "2023-10-16T15:11:06.249521Z"
    },
    "papermill": {
     "duration": 3.167405,
     "end_time": "2023-10-16T15:11:06.253746",
     "exception": false,
     "start_time": "2023-10-16T15:11:03.086341",
     "status": "completed"
    },
    "tags": []
   },
   "outputs": [],
   "source": [
    "np.random.seed(42)\n",
    "\n",
    "X_train, y_train = generate_dataset(10000)\n",
    "X_valid, y_valid = generate_dataset(2000)"
   ]
  },
  {
   "cell_type": "code",
   "execution_count": 12,
   "id": "90c89cc4",
   "metadata": {
    "execution": {
     "iopub.execute_input": "2023-10-16T15:11:06.267210Z",
     "iopub.status.busy": "2023-10-16T15:11:06.265375Z",
     "iopub.status.idle": "2023-10-16T15:13:51.235666Z",
     "shell.execute_reply": "2023-10-16T15:13:51.233809Z"
    },
    "papermill": {
     "duration": 164.980457,
     "end_time": "2023-10-16T15:13:51.239111",
     "exception": false,
     "start_time": "2023-10-16T15:11:06.258654",
     "status": "completed"
    },
    "tags": []
   },
   "outputs": [
    {
     "name": "stdout",
     "output_type": "stream",
     "text": [
      "Epoch 1/20\n",
      "313/313 [==============================] - 11s 23ms/step - loss: 0.6940 - accuracy: 0.5047 - val_loss: 0.6929 - val_accuracy: 0.5000\n",
      "Epoch 2/20\n",
      "313/313 [==============================] - 6s 21ms/step - loss: 0.6934 - accuracy: 0.5130 - val_loss: 0.6916 - val_accuracy: 0.5000\n",
      "Epoch 3/20\n",
      "313/313 [==============================] - 6s 20ms/step - loss: 0.6827 - accuracy: 0.5591 - val_loss: 0.6745 - val_accuracy: 0.5975\n",
      "Epoch 4/20\n",
      "313/313 [==============================] - 6s 20ms/step - loss: 0.6571 - accuracy: 0.5869 - val_loss: 0.6602 - val_accuracy: 0.6020\n",
      "Epoch 5/20\n",
      "313/313 [==============================] - 7s 21ms/step - loss: 0.5857 - accuracy: 0.6846 - val_loss: 0.5124 - val_accuracy: 0.7575\n",
      "Epoch 6/20\n",
      "313/313 [==============================] - 7s 21ms/step - loss: 0.4980 - accuracy: 0.7483 - val_loss: 0.4592 - val_accuracy: 0.7840\n",
      "Epoch 7/20\n",
      "313/313 [==============================] - 6s 20ms/step - loss: 0.4478 - accuracy: 0.7829 - val_loss: 0.5212 - val_accuracy: 0.7290\n",
      "Epoch 8/20\n",
      "313/313 [==============================] - 7s 21ms/step - loss: 0.4564 - accuracy: 0.7875 - val_loss: 0.6270 - val_accuracy: 0.5935\n",
      "Epoch 9/20\n",
      "313/313 [==============================] - 7s 21ms/step - loss: 0.5256 - accuracy: 0.7341 - val_loss: 0.4494 - val_accuracy: 0.7935\n",
      "Epoch 10/20\n",
      "313/313 [==============================] - 6s 20ms/step - loss: 0.4184 - accuracy: 0.8030 - val_loss: 0.3568 - val_accuracy: 0.8710\n",
      "Epoch 11/20\n",
      "313/313 [==============================] - 6s 20ms/step - loss: 0.5474 - accuracy: 0.7129 - val_loss: 0.6530 - val_accuracy: 0.5925\n",
      "Epoch 12/20\n",
      "313/313 [==============================] - 7s 21ms/step - loss: 0.6276 - accuracy: 0.6048 - val_loss: 0.5753 - val_accuracy: 0.6645\n",
      "Epoch 13/20\n",
      "313/313 [==============================] - 7s 21ms/step - loss: 0.5593 - accuracy: 0.6805 - val_loss: 0.5058 - val_accuracy: 0.7315\n",
      "Epoch 14/20\n",
      "313/313 [==============================] - 6s 20ms/step - loss: 0.5271 - accuracy: 0.7206 - val_loss: 0.5486 - val_accuracy: 0.7440\n",
      "Epoch 15/20\n",
      "313/313 [==============================] - 7s 21ms/step - loss: 0.4407 - accuracy: 0.7968 - val_loss: 0.3420 - val_accuracy: 0.8645\n",
      "Epoch 16/20\n",
      "313/313 [==============================] - 7s 21ms/step - loss: 0.3316 - accuracy: 0.8575 - val_loss: 0.2370 - val_accuracy: 0.9185\n",
      "Epoch 17/20\n",
      "313/313 [==============================] - 6s 20ms/step - loss: 0.2033 - accuracy: 0.9253 - val_loss: 0.2750 - val_accuracy: 0.9035\n",
      "Epoch 18/20\n",
      "313/313 [==============================] - 6s 20ms/step - loss: 0.1968 - accuracy: 0.9288 - val_loss: 0.0920 - val_accuracy: 0.9855\n",
      "Epoch 19/20\n",
      "313/313 [==============================] - 6s 20ms/step - loss: 0.0796 - accuracy: 0.9757 - val_loss: 0.0644 - val_accuracy: 0.9780\n",
      "Epoch 20/20\n",
      "313/313 [==============================] - 7s 21ms/step - loss: 0.0568 - accuracy: 0.9840 - val_loss: 0.0564 - val_accuracy: 0.9800\n"
     ]
    }
   ],
   "source": [
    "np.random.seed(42)\n",
    "tf.random.set_seed(42)\n",
    "\n",
    "embedding_size = 5\n",
    "\n",
    "model = tf.keras.Sequential([\n",
    "    tf.keras.layers.InputLayer(input_shape=[None], dtype=tf.int32, ragged=True),\n",
    "    tf.keras.layers.Embedding(input_dim=len(POSSIBLE_CHARS),\n",
    "                              output_dim=embedding_size),\n",
    "    tf.keras.layers.LSTM(50),\n",
    "    tf.keras.layers.Dense(1, activation=\"sigmoid\")\n",
    "])\n",
    "optimizer = tf.keras.optimizers.SGD(learning_rate=0.02, momentum = 0.95,\n",
    "                                    nesterov=True)\n",
    "model.compile(loss=\"binary_crossentropy\", optimizer=optimizer,\n",
    "              metrics=[\"accuracy\"])\n",
    "history = model.fit(X_train, y_train, epochs=20,\n",
    "                    validation_data=(X_valid, y_valid))"
   ]
  },
  {
   "cell_type": "code",
   "execution_count": 13,
   "id": "8ca99562",
   "metadata": {
    "execution": {
     "iopub.execute_input": "2023-10-16T15:13:51.498009Z",
     "iopub.status.busy": "2023-10-16T15:13:51.496390Z",
     "iopub.status.idle": "2023-10-16T15:13:52.129470Z",
     "shell.execute_reply": "2023-10-16T15:13:52.128195Z"
    },
    "papermill": {
     "duration": 0.766963,
     "end_time": "2023-10-16T15:13:52.132566",
     "exception": false,
     "start_time": "2023-10-16T15:13:51.365603",
     "status": "completed"
    },
    "tags": []
   },
   "outputs": [
    {
     "name": "stdout",
     "output_type": "stream",
     "text": [
      "1/1 [==============================] - 1s 610ms/step\n",
      "\n",
      "Estimated probability that these are Reber strings:\n",
      "BPBTSSSSSSSXXTTVPXVPXTTTTTVVETE: 6.49%\n",
      "BPBTSSSSSSSXXTTVPXVPXTTTTTVVEPE: 95.51%\n"
     ]
    }
   ],
   "source": [
    "test_strings = [\"BPBTSSSSSSSXXTTVPXVPXTTTTTVVETE\",\n",
    "                \"BPBTSSSSSSSXXTTVPXVPXTTTTTVVEPE\"]\n",
    "X_test = tf.ragged.constant([string_to_ids(s) for s in test_strings], ragged_rank=1)\n",
    "\n",
    "y_proba = model.predict(X_test)\n",
    "print()\n",
    "print(\"Estimated probability that these are Reber strings:\")\n",
    "for index, string in enumerate(test_strings):\n",
    "    print(\"{}: {:.2f}%\".format(string, 100 * y_proba[index][0]))"
   ]
  }
 ],
 "metadata": {
  "kernelspec": {
   "display_name": "Python 3",
   "language": "python",
   "name": "python3"
  },
  "language_info": {
   "codemirror_mode": {
    "name": "ipython",
    "version": 3
   },
   "file_extension": ".py",
   "mimetype": "text/x-python",
   "name": "python",
   "nbconvert_exporter": "python",
   "pygments_lexer": "ipython3",
   "version": "3.10.12"
  },
  "papermill": {
   "default_parameters": {},
   "duration": 189.887096,
   "end_time": "2023-10-16T15:13:55.389083",
   "environment_variables": {},
   "exception": null,
   "input_path": "__notebook__.ipynb",
   "output_path": "__notebook__.ipynb",
   "parameters": {},
   "start_time": "2023-10-16T15:10:45.501987",
   "version": "2.4.0"
  }
 },
 "nbformat": 4,
 "nbformat_minor": 5
}
