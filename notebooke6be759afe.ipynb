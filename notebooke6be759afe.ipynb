{
 "cells": [
  {
   "cell_type": "markdown",
   "id": "41237d57",
   "metadata": {
    "papermill": {
     "duration": 0.004207,
     "end_time": "2023-10-16T15:14:10.928173",
     "exception": false,
     "start_time": "2023-10-16T15:14:10.923966",
     "status": "completed"
    },
    "tags": []
   },
   "source": [
    "# **Setting up the environment**"
   ]
  },
  {
   "cell_type": "code",
   "execution_count": 1,
   "id": "b5959663",
   "metadata": {
    "execution": {
     "iopub.execute_input": "2023-10-16T15:14:10.939397Z",
     "iopub.status.busy": "2023-10-16T15:14:10.939010Z",
     "iopub.status.idle": "2023-10-16T15:14:10.948052Z",
     "shell.execute_reply": "2023-10-16T15:14:10.947293Z"
    },
    "papermill": {
     "duration": 0.016091,
     "end_time": "2023-10-16T15:14:10.949939",
     "exception": false,
     "start_time": "2023-10-16T15:14:10.933848",
     "status": "completed"
    },
    "tags": []
   },
   "outputs": [],
   "source": [
    "import warnings\n",
    "warnings.filterwarnings('ignore')"
   ]
  },
  {
   "cell_type": "code",
   "execution_count": 2,
   "id": "7273a88e",
   "metadata": {
    "execution": {
     "iopub.execute_input": "2023-10-16T15:14:10.959878Z",
     "iopub.status.busy": "2023-10-16T15:14:10.958976Z",
     "iopub.status.idle": "2023-10-16T15:14:20.140187Z",
     "shell.execute_reply": "2023-10-16T15:14:20.139126Z"
    },
    "papermill": {
     "duration": 9.188695,
     "end_time": "2023-10-16T15:14:20.142649",
     "exception": false,
     "start_time": "2023-10-16T15:14:10.953954",
     "status": "completed"
    },
    "tags": []
   },
   "outputs": [],
   "source": [
    "import numpy as np\n",
    "import pandas as pd\n",
    "import tensorflow as tf"
   ]
  },
  {
   "cell_type": "code",
   "execution_count": 3,
   "id": "6a686d7e",
   "metadata": {
    "execution": {
     "iopub.execute_input": "2023-10-16T15:14:20.153211Z",
     "iopub.status.busy": "2023-10-16T15:14:20.151845Z",
     "iopub.status.idle": "2023-10-16T15:14:20.160631Z",
     "shell.execute_reply": "2023-10-16T15:14:20.159580Z"
    },
    "papermill": {
     "duration": 0.015913,
     "end_time": "2023-10-16T15:14:20.162635",
     "exception": false,
     "start_time": "2023-10-16T15:14:20.146722",
     "status": "completed"
    },
    "tags": []
   },
   "outputs": [],
   "source": [
    "default_reber_grammar = [\n",
    "    [(\"B\", 1)],           # (state 0) =B=>(state 1)\n",
    "    [(\"T\", 2), (\"P\", 3)], # (state 1) =T=>(state 2) or =P=>(state 3)\n",
    "    [(\"S\", 2), (\"X\", 4)], # (state 2) =S=>(state 2) or =X=>(state 4)\n",
    "    [(\"T\", 3), (\"V\", 5)], # and so on...\n",
    "    [(\"X\", 3), (\"S\", 6)],\n",
    "    [(\"P\", 4), (\"V\", 6)],\n",
    "    [(\"E\", None)]]        # (state 6) =E=>(terminal state)\n",
    "\n",
    "embedded_reber_grammar = [\n",
    "    [(\"B\", 1)],\n",
    "    [(\"T\", 2), (\"P\", 3)],\n",
    "    [(default_reber_grammar, 4)],\n",
    "    [(default_reber_grammar, 5)],\n",
    "    [(\"T\", 6)],\n",
    "    [(\"P\", 6)],\n",
    "    [(\"E\", None)]]\n",
    "\n",
    "def generate_string(grammar):\n",
    "    state = 0\n",
    "    output = []\n",
    "    while state is not None:\n",
    "        index = np.random.randint(len(grammar[state]))\n",
    "        production, state = grammar[state][index]\n",
    "        if isinstance(production, list):\n",
    "            production = generate_string(grammar=production)\n",
    "        output.append(production)\n",
    "    return \"\".join(output)"
   ]
  },
  {
   "cell_type": "markdown",
   "id": "188163da",
   "metadata": {
    "papermill": {
     "duration": 0.003591,
     "end_time": "2023-10-16T15:14:20.170265",
     "exception": false,
     "start_time": "2023-10-16T15:14:20.166674",
     "status": "completed"
    },
    "tags": []
   },
   "source": [
    "# **Reber grammar**"
   ]
  },
  {
   "cell_type": "code",
   "execution_count": 4,
   "id": "7d1c2b35",
   "metadata": {
    "execution": {
     "iopub.execute_input": "2023-10-16T15:14:20.179896Z",
     "iopub.status.busy": "2023-10-16T15:14:20.179441Z",
     "iopub.status.idle": "2023-10-16T15:14:20.185270Z",
     "shell.execute_reply": "2023-10-16T15:14:20.184595Z"
    },
    "papermill": {
     "duration": 0.013615,
     "end_time": "2023-10-16T15:14:20.187747",
     "exception": false,
     "start_time": "2023-10-16T15:14:20.174132",
     "status": "completed"
    },
    "tags": []
   },
   "outputs": [
    {
     "name": "stdout",
     "output_type": "stream",
     "text": [
      "BTXXTTVPXTVPXTTVPSE BPVPSE BTXSE BPVVE BPVVE BTSXSE BPTVPXTTTVVE BPVVE BTXSE BTXXVPSE BPTTTTTTTTVVE BTXSE BPVPSE BTXSE BPTVPSE BTXXTVPSE BPVVE BPVVE BPVVE BPTTVVE BPVVE BPVVE BTXXVVE BTXXVVE BTXXVPXVVE "
     ]
    }
   ],
   "source": [
    "np.random.seed(42)\n",
    "\n",
    "for _ in range(25):\n",
    "    print(generate_string(default_reber_grammar), end=\" \")"
   ]
  },
  {
   "cell_type": "markdown",
   "id": "e065e41b",
   "metadata": {
    "papermill": {
     "duration": 0.003708,
     "end_time": "2023-10-16T15:14:20.195418",
     "exception": false,
     "start_time": "2023-10-16T15:14:20.191710",
     "status": "completed"
    },
    "tags": []
   },
   "source": [
    "# **Embedded Reber grammar**"
   ]
  },
  {
   "cell_type": "code",
   "execution_count": 5,
   "id": "e41ef36e",
   "metadata": {
    "execution": {
     "iopub.execute_input": "2023-10-16T15:14:20.205219Z",
     "iopub.status.busy": "2023-10-16T15:14:20.204579Z",
     "iopub.status.idle": "2023-10-16T15:14:20.211487Z",
     "shell.execute_reply": "2023-10-16T15:14:20.210201Z"
    },
    "papermill": {
     "duration": 0.0146,
     "end_time": "2023-10-16T15:14:20.213931",
     "exception": false,
     "start_time": "2023-10-16T15:14:20.199331",
     "status": "completed"
    },
    "tags": []
   },
   "outputs": [
    {
     "name": "stdout",
     "output_type": "stream",
     "text": [
      "BTBPTTTVPXTVPXTTVPSETE BPBPTVPSEPE BPBPVVEPE BPBPVPXVVEPE BPBTXXTTTTVVEPE BPBPVPSEPE BPBTXXVPSEPE BPBTSSSSSSSXSEPE BTBPVVETE BPBTXXVVEPE BPBTXXVPSEPE BTBTXXVVETE BPBPVVEPE BPBPVVEPE BPBTSXSEPE BPBPVVEPE BPBPTVPSEPE BPBTXXVVEPE BTBPTVPXVVETE BTBPVVETE BTBTSSSSSSSXXVVETE BPBTSSSXXTTTTVPSEPE BTBPTTVVETE BPBTXXTVVEPE BTBTXSETE "
     ]
    }
   ],
   "source": [
    "np.random.seed(42)\n",
    "\n",
    "for _ in range(25):\n",
    "    print(generate_string(embedded_reber_grammar), end=\" \")"
   ]
  },
  {
   "cell_type": "markdown",
   "id": "e473c42e",
   "metadata": {
    "papermill": {
     "duration": 0.003941,
     "end_time": "2023-10-16T15:14:20.222032",
     "exception": false,
     "start_time": "2023-10-16T15:14:20.218091",
     "status": "completed"
    },
    "tags": []
   },
   "source": [
    "# **Generating corrupted strings (non reber grammar)**"
   ]
  },
  {
   "cell_type": "code",
   "execution_count": 6,
   "id": "d2b2bebd",
   "metadata": {
    "execution": {
     "iopub.execute_input": "2023-10-16T15:14:20.232086Z",
     "iopub.status.busy": "2023-10-16T15:14:20.231446Z",
     "iopub.status.idle": "2023-10-16T15:14:20.237138Z",
     "shell.execute_reply": "2023-10-16T15:14:20.236347Z"
    },
    "papermill": {
     "duration": 0.013009,
     "end_time": "2023-10-16T15:14:20.239107",
     "exception": false,
     "start_time": "2023-10-16T15:14:20.226098",
     "status": "completed"
    },
    "tags": []
   },
   "outputs": [],
   "source": [
    "POSSIBLE_CHARS = \"BEPSTVX\"\n",
    "\n",
    "def generate_corrupted_string(grammar, chars=POSSIBLE_CHARS):\n",
    "    good_string = generate_string(grammar)\n",
    "    index = np.random.randint(len(good_string))\n",
    "    good_char = good_string[index]\n",
    "    bad_char = np.random.choice(sorted(set(chars) - set(good_char)))\n",
    "    return good_string[:index] + bad_char + good_string[index + 1:]"
   ]
  },
  {
   "cell_type": "code",
   "execution_count": 7,
   "id": "7e1dccdb",
   "metadata": {
    "execution": {
     "iopub.execute_input": "2023-10-16T15:14:20.249028Z",
     "iopub.status.busy": "2023-10-16T15:14:20.248422Z",
     "iopub.status.idle": "2023-10-16T15:14:20.256546Z",
     "shell.execute_reply": "2023-10-16T15:14:20.255567Z"
    },
    "papermill": {
     "duration": 0.015536,
     "end_time": "2023-10-16T15:14:20.258673",
     "exception": false,
     "start_time": "2023-10-16T15:14:20.243137",
     "status": "completed"
    },
    "tags": []
   },
   "outputs": [
    {
     "name": "stdout",
     "output_type": "stream",
     "text": [
      "BTBPTTTPPXTVPXTTVPSETE BPBTXEEPE BPBPTVVVEPE BPBTSSSSXSETE BPTTXSEPE BTBPVPXTTTTTTEVETE BPBTXXSVEPE BSBPTTVPSETE BPBXVVEPE BEBTXSETE BPBPVPSXPE BTBPVVVETE BPBTSXSETE BPBPTTTPTTTTTVPSEPE BTBTXXTTSTVPSETE BBBTXSETE BPBTPXSEPE BPBPVPXTTTTVPXTVPXVPXTTTVVEVE BTBXXXTVPSETE BEBTSSSSSXXVPXTVVETE BTBXTTVVETE BPBTXSTPE BTBTXXTTTVPSBTE BTBTXSETX BTBTSXSSTE "
     ]
    }
   ],
   "source": [
    "np.random.seed(42)\n",
    "\n",
    "for _ in range(25):\n",
    "    print(generate_corrupted_string(embedded_reber_grammar), end=\" \")"
   ]
  },
  {
   "cell_type": "markdown",
   "id": "5a79a8aa",
   "metadata": {
    "papermill": {
     "duration": 0.003951,
     "end_time": "2023-10-16T15:14:20.266853",
     "exception": false,
     "start_time": "2023-10-16T15:14:20.262902",
     "status": "completed"
    },
    "tags": []
   },
   "source": [
    "# **Word Embeddings**"
   ]
  },
  {
   "cell_type": "code",
   "execution_count": 8,
   "id": "f57953be",
   "metadata": {
    "execution": {
     "iopub.execute_input": "2023-10-16T15:14:20.276805Z",
     "iopub.status.busy": "2023-10-16T15:14:20.276416Z",
     "iopub.status.idle": "2023-10-16T15:14:20.280906Z",
     "shell.execute_reply": "2023-10-16T15:14:20.279904Z"
    },
    "papermill": {
     "duration": 0.011771,
     "end_time": "2023-10-16T15:14:20.282700",
     "exception": false,
     "start_time": "2023-10-16T15:14:20.270929",
     "status": "completed"
    },
    "tags": []
   },
   "outputs": [],
   "source": [
    "def string_to_ids(s, chars=POSSIBLE_CHARS):\n",
    "    return [chars.index(c) for c in s]"
   ]
  },
  {
   "cell_type": "code",
   "execution_count": 9,
   "id": "357b5ac3",
   "metadata": {
    "execution": {
     "iopub.execute_input": "2023-10-16T15:14:20.292969Z",
     "iopub.status.busy": "2023-10-16T15:14:20.292269Z",
     "iopub.status.idle": "2023-10-16T15:14:20.298320Z",
     "shell.execute_reply": "2023-10-16T15:14:20.297671Z"
    },
    "papermill": {
     "duration": 0.013185,
     "end_time": "2023-10-16T15:14:20.300099",
     "exception": false,
     "start_time": "2023-10-16T15:14:20.286914",
     "status": "completed"
    },
    "tags": []
   },
   "outputs": [
    {
     "data": {
      "text/plain": [
       "[0, 2, 0, 2, 4, 5, 2, 3, 1, 2, 1]"
      ]
     },
     "execution_count": 9,
     "metadata": {},
     "output_type": "execute_result"
    }
   ],
   "source": [
    "string_to_ids(\"BPBPTVPSEPE\")"
   ]
  },
  {
   "cell_type": "code",
   "execution_count": 10,
   "id": "275ac6db",
   "metadata": {
    "execution": {
     "iopub.execute_input": "2023-10-16T15:14:20.310289Z",
     "iopub.status.busy": "2023-10-16T15:14:20.309619Z",
     "iopub.status.idle": "2023-10-16T15:14:20.315051Z",
     "shell.execute_reply": "2023-10-16T15:14:20.314370Z"
    },
    "papermill": {
     "duration": 0.012914,
     "end_time": "2023-10-16T15:14:20.317172",
     "exception": false,
     "start_time": "2023-10-16T15:14:20.304258",
     "status": "completed"
    },
    "tags": []
   },
   "outputs": [],
   "source": [
    "def generate_dataset(size):\n",
    "    good_strings = [\n",
    "        string_to_ids(generate_string(embedded_reber_grammar))\n",
    "        for _ in range(size // 2)\n",
    "    ]\n",
    "    bad_strings = [\n",
    "        string_to_ids(generate_corrupted_string(embedded_reber_grammar))\n",
    "        for _ in range(size - size // 2)\n",
    "    ]\n",
    "    all_strings = good_strings + bad_strings\n",
    "    X = tf.ragged.constant(all_strings, ragged_rank=1)\n",
    "    y = np.array([[1.] for _ in range(len(good_strings))] +\n",
    "                 [[0.] for _ in range(len(bad_strings))])\n",
    "    return X, y"
   ]
  },
  {
   "cell_type": "code",
   "execution_count": 11,
   "id": "3dd884f6",
   "metadata": {
    "execution": {
     "iopub.execute_input": "2023-10-16T15:14:20.327164Z",
     "iopub.status.busy": "2023-10-16T15:14:20.326578Z",
     "iopub.status.idle": "2023-10-16T15:14:23.051142Z",
     "shell.execute_reply": "2023-10-16T15:14:23.049934Z"
    },
    "papermill": {
     "duration": 2.732289,
     "end_time": "2023-10-16T15:14:23.053697",
     "exception": false,
     "start_time": "2023-10-16T15:14:20.321408",
     "status": "completed"
    },
    "tags": []
   },
   "outputs": [],
   "source": [
    "np.random.seed(42)\n",
    "\n",
    "X_train, y_train = generate_dataset(10000)\n",
    "X_valid, y_valid = generate_dataset(2000)"
   ]
  },
  {
   "cell_type": "markdown",
   "id": "39ae5b62",
   "metadata": {
    "papermill": {
     "duration": 0.003895,
     "end_time": "2023-10-16T15:14:23.061942",
     "exception": false,
     "start_time": "2023-10-16T15:14:23.058047",
     "status": "completed"
    },
    "tags": []
   },
   "source": [
    "# **Model**"
   ]
  },
  {
   "cell_type": "code",
   "execution_count": 12,
   "id": "8c7260ff",
   "metadata": {
    "execution": {
     "iopub.execute_input": "2023-10-16T15:14:23.071837Z",
     "iopub.status.busy": "2023-10-16T15:14:23.071449Z",
     "iopub.status.idle": "2023-10-16T15:16:02.648334Z",
     "shell.execute_reply": "2023-10-16T15:16:02.647078Z"
    },
    "papermill": {
     "duration": 99.584689,
     "end_time": "2023-10-16T15:16:02.650680",
     "exception": false,
     "start_time": "2023-10-16T15:14:23.065991",
     "status": "completed"
    },
    "tags": []
   },
   "outputs": [
    {
     "name": "stdout",
     "output_type": "stream",
     "text": [
      "Epoch 1/20\n",
      "313/313 [==============================] - 8s 15ms/step - loss: 0.6941 - accuracy: 0.5043 - val_loss: 0.6927 - val_accuracy: 0.5000\n",
      "Epoch 2/20\n",
      "313/313 [==============================] - 4s 13ms/step - loss: 0.6923 - accuracy: 0.5180 - val_loss: 0.6894 - val_accuracy: 0.4930\n",
      "Epoch 3/20\n",
      "313/313 [==============================] - 4s 13ms/step - loss: 0.6753 - accuracy: 0.5732 - val_loss: 0.6651 - val_accuracy: 0.6085\n",
      "Epoch 4/20\n",
      "313/313 [==============================] - 4s 13ms/step - loss: 0.6478 - accuracy: 0.5995 - val_loss: 0.6635 - val_accuracy: 0.6105\n",
      "Epoch 5/20\n",
      "313/313 [==============================] - 4s 13ms/step - loss: 0.6119 - accuracy: 0.6534 - val_loss: 0.6560 - val_accuracy: 0.4665\n",
      "Epoch 6/20\n",
      "313/313 [==============================] - 4s 13ms/step - loss: 0.5731 - accuracy: 0.6930 - val_loss: 0.5311 - val_accuracy: 0.7310\n",
      "Epoch 7/20\n",
      "313/313 [==============================] - 4s 14ms/step - loss: 0.4788 - accuracy: 0.7644 - val_loss: 0.4936 - val_accuracy: 0.7825\n",
      "Epoch 8/20\n",
      "313/313 [==============================] - 4s 13ms/step - loss: 0.4190 - accuracy: 0.8072 - val_loss: 0.4159 - val_accuracy: 0.8445\n",
      "Epoch 9/20\n",
      "313/313 [==============================] - 4s 13ms/step - loss: 0.3893 - accuracy: 0.8438 - val_loss: 0.3077 - val_accuracy: 0.8820\n",
      "Epoch 10/20\n",
      "313/313 [==============================] - 4s 13ms/step - loss: 0.2860 - accuracy: 0.8978 - val_loss: 0.2265 - val_accuracy: 0.9230\n",
      "Epoch 11/20\n",
      "313/313 [==============================] - 4s 13ms/step - loss: 0.1981 - accuracy: 0.9313 - val_loss: 0.1377 - val_accuracy: 0.9590\n",
      "Epoch 12/20\n",
      "313/313 [==============================] - 4s 13ms/step - loss: 0.1761 - accuracy: 0.9429 - val_loss: 0.1016 - val_accuracy: 0.9725\n",
      "Epoch 13/20\n",
      "313/313 [==============================] - 4s 13ms/step - loss: 0.0825 - accuracy: 0.9782 - val_loss: 0.0559 - val_accuracy: 0.9855\n",
      "Epoch 14/20\n",
      "313/313 [==============================] - 4s 14ms/step - loss: 0.0808 - accuracy: 0.9792 - val_loss: 0.2634 - val_accuracy: 0.9105\n",
      "Epoch 15/20\n",
      "313/313 [==============================] - 4s 13ms/step - loss: 0.0974 - accuracy: 0.9712 - val_loss: 0.0617 - val_accuracy: 0.9825\n",
      "Epoch 16/20\n",
      "313/313 [==============================] - 4s 13ms/step - loss: 0.1123 - accuracy: 0.9685 - val_loss: 0.0676 - val_accuracy: 0.9825\n",
      "Epoch 17/20\n",
      "313/313 [==============================] - 4s 13ms/step - loss: 0.1002 - accuracy: 0.9747 - val_loss: 0.0509 - val_accuracy: 0.9890\n",
      "Epoch 18/20\n",
      "313/313 [==============================] - 4s 13ms/step - loss: 0.0806 - accuracy: 0.9814 - val_loss: 0.0670 - val_accuracy: 0.9885\n",
      "Epoch 19/20\n",
      "313/313 [==============================] - 4s 13ms/step - loss: 0.2450 - accuracy: 0.9158 - val_loss: 0.2149 - val_accuracy: 0.9305\n",
      "Epoch 20/20\n",
      "313/313 [==============================] - 4s 13ms/step - loss: 0.1289 - accuracy: 0.9671 - val_loss: 0.0823 - val_accuracy: 0.9820\n"
     ]
    }
   ],
   "source": [
    "np.random.seed(42)\n",
    "tf.random.set_seed(42)\n",
    "\n",
    "embedding_size = 5\n",
    "\n",
    "model = tf.keras.Sequential([\n",
    "    tf.keras.layers.InputLayer(input_shape=[None], dtype=tf.int32, ragged=True),\n",
    "    tf.keras.layers.Embedding(input_dim=len(POSSIBLE_CHARS),\n",
    "                              output_dim=embedding_size),\n",
    "    tf.keras.layers.LSTM(50),\n",
    "    tf.keras.layers.Dense(1, activation=\"sigmoid\")\n",
    "])\n",
    "optimizer = tf.keras.optimizers.SGD(learning_rate=0.02, momentum = 0.95,\n",
    "                                    nesterov=True)\n",
    "model.compile(loss=\"binary_crossentropy\", optimizer=optimizer,\n",
    "              metrics=[\"accuracy\"])\n",
    "history = model.fit(X_train, y_train, epochs=20,\n",
    "                    validation_data=(X_valid, y_valid))"
   ]
  },
  {
   "cell_type": "code",
   "execution_count": 13,
   "id": "dac68f6d",
   "metadata": {
    "execution": {
     "iopub.execute_input": "2023-10-16T15:16:02.802613Z",
     "iopub.status.busy": "2023-10-16T15:16:02.801882Z",
     "iopub.status.idle": "2023-10-16T15:16:03.312533Z",
     "shell.execute_reply": "2023-10-16T15:16:03.311186Z"
    },
    "papermill": {
     "duration": 0.589183,
     "end_time": "2023-10-16T15:16:03.315098",
     "exception": false,
     "start_time": "2023-10-16T15:16:02.725915",
     "status": "completed"
    },
    "tags": []
   },
   "outputs": [
    {
     "name": "stdout",
     "output_type": "stream",
     "text": [
      "1/1 [==============================] - 0s 486ms/step\n",
      "\n",
      "Estimated probability that these are Reber strings:\n",
      "BPBTSSSSSSSXXTTVPXVPXTTTTTVVETE: 92.05%\n",
      "BPBTSSSSSSSXXTTVPXVPXTTTTTVVEPE: 96.75%\n"
     ]
    }
   ],
   "source": [
    "test_strings = [\"BPBTSSSSSSSXXTTVPXVPXTTTTTVVETE\",\n",
    "                \"BPBTSSSSSSSXXTTVPXVPXTTTTTVVEPE\"]\n",
    "X_test = tf.ragged.constant([string_to_ids(s) for s in test_strings], ragged_rank=1)\n",
    "\n",
    "y_proba = model.predict(X_test)\n",
    "print()\n",
    "print(\"Estimated probability that these are Reber strings:\")\n",
    "for index, string in enumerate(test_strings):\n",
    "    print(\"{}: {:.2f}%\".format(string, 100 * y_proba[index][0]))"
   ]
  }
 ],
 "metadata": {
  "kernelspec": {
   "display_name": "Python 3",
   "language": "python",
   "name": "python3"
  },
  "language_info": {
   "codemirror_mode": {
    "name": "ipython",
    "version": 3
   },
   "file_extension": ".py",
   "mimetype": "text/x-python",
   "name": "python",
   "nbconvert_exporter": "python",
   "pygments_lexer": "ipython3",
   "version": "3.10.12"
  },
  "papermill": {
   "default_parameters": {},
   "duration": 117.923404,
   "end_time": "2023-10-16T15:16:05.024645",
   "environment_variables": {},
   "exception": null,
   "input_path": "__notebook__.ipynb",
   "output_path": "__notebook__.ipynb",
   "parameters": {},
   "start_time": "2023-10-16T15:14:07.101241",
   "version": "2.4.0"
  }
 },
 "nbformat": 4,
 "nbformat_minor": 5
}
